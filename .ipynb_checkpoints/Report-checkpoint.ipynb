{
 "cells": [
  {
   "cell_type": "markdown",
   "metadata": {},
   "source": [
    "# Banana Project Report\n",
    "\n",
    "---\n",
    "\n",
    "In this project, we implement a Deep Q learning Network into a unity envoirment with a goal of collecting yellow banans and avoding blue bananas. Pytorch is used to construct the the Deep Q Network and Unity's ML-Agents toolkit is used for the envoirment"
   ]
  },
  {
   "cell_type": "markdown",
   "metadata": {},
   "source": [
    "### Network Type"
   ]
  },
  {
   "cell_type": "markdown",
   "metadata": {},
   "source": [
    "Feed forward multilayer perceptron with 2 hidden layers created with Pytorch\n",
    "\n",
    "* Input = 37 (number of states)\n",
    "* Hidden 1 = 64 nodes with rectified linear unit as activations\n",
    "* Hidden 2 = 64 nodes with rectified linear unit as activations\n",
    "* Output = 4 (number of actions)"
   ]
  },
  {
   "cell_type": "markdown",
   "metadata": {},
   "source": [
    "<div style=\"float: center\"><img src=\"images/networksize.png\" alt=\"Score vs episode chart\"/></div>"
   ]
  },
  {
   "cell_type": "markdown",
   "metadata": {},
   "source": [
    "### Parameters"
   ]
  },
  {
   "cell_type": "markdown",
   "metadata": {},
   "source": [
    "* Max number of episodes = 2000\n",
    "\n",
    "* Max timesteps = 1000\n",
    "\n",
    "* Epsilon starting = 1\n",
    "\n",
    "* Epsilon ending 0.01\n",
    "\n",
    "* Epsilon decay 0.995"
   ]
  },
  {
   "cell_type": "markdown",
   "metadata": {},
   "source": [
    "---"
   ]
  },
  {
   "cell_type": "markdown",
   "metadata": {},
   "source": [
    "### Results"
   ]
  },
  {
   "cell_type": "markdown",
   "metadata": {},
   "source": [
    "<div style=\"float: left\"><img src=\"images/score_episode.png\" alt=\"Score vs episode chart\"/></div>"
   ]
  },
  {
   "cell_type": "markdown",
   "metadata": {},
   "source": [
    "```\n",
    "Episode 100\tAverage Score: 1.07\n",
    "Episode 200\tAverage Score: 4.36\n",
    "Episode 300\tAverage Score: 7.83\n",
    "Episode 400\tAverage Score: 10.64\n",
    "Episode 500\tAverage Score: 12.02\n",
    "Episode 520\tAverage Score: 13.00\n",
    "Environment solved in 420 episodes!\tAverage Score: 13.00\n",
    "```"
   ]
  },
  {
   "cell_type": "markdown",
   "metadata": {},
   "source": [
    "---"
   ]
  },
  {
   "cell_type": "markdown",
   "metadata": {},
   "source": [
    "### Random"
   ]
  },
  {
   "cell_type": "markdown",
   "metadata": {},
   "source": [
    "<div style=\"float: left\"><img src=\"images/random_DQN.gif\" alt=\"Random DQN Banana\" style=\"width: 600px;\"/></div>"
   ]
  },
  {
   "cell_type": "markdown",
   "metadata": {},
   "source": [
    "### Trained"
   ]
  },
  {
   "cell_type": "markdown",
   "metadata": {},
   "source": [
    "<div style=\"float: left\"><img src=\"images/trained_DQN.gif\" alt=\"Trained DQN Banana\" style=\"width: 600px;\"/></div>"
   ]
  },
  {
   "cell_type": "markdown",
   "metadata": {},
   "source": [
    "# How can we make this better?"
   ]
  },
  {
   "cell_type": "markdown",
   "metadata": {},
   "source": [
    "* Tuning the hyper paramters will further optimize the DQN\n",
    "\n",
    "* To help with overestimated actions Double Q-Learning\n",
    "\n",
    "* Other methods may utilize prioritized experience replay, dueling DQN , and rainbow methods"
   ]
  }
 ],
 "metadata": {
  "kernelspec": {
   "display_name": "drlnd",
   "language": "python",
   "name": "drlnd"
  },
  "language_info": {
   "codemirror_mode": {
    "name": "ipython",
    "version": 3
   },
   "file_extension": ".py",
   "mimetype": "text/x-python",
   "name": "python",
   "nbconvert_exporter": "python",
   "pygments_lexer": "ipython3",
   "version": "3.6.7"
  }
 },
 "nbformat": 4,
 "nbformat_minor": 2
}
